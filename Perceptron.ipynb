{
 "cells": [
  {
   "cell_type": "code",
   "execution_count": 1,
   "metadata": {},
   "outputs": [],
   "source": [
    "import numpy as np\n",
    "import matplotlib.pyplot as plt\n",
    "%matplotlib inline\n",
    "import pandas as pd"
   ]
  },
  {
   "cell_type": "markdown",
   "metadata": {},
   "source": [
    "## Create some fake data"
   ]
  },
  {
   "cell_type": "code",
   "execution_count": 2,
   "metadata": {},
   "outputs": [],
   "source": [
    "def f(x):\n",
    "    return(2*x+1)\n",
    "x1=3*np.random.randn(30,2)\n",
    "a=np.min(x1)\n",
    "b=np.max(x1)\n",
    "x=np.linspace(a,b)\n",
    "y1=f(x)"
   ]
  },
  {
   "cell_type": "code",
   "execution_count": 3,
   "metadata": {},
   "outputs": [
    {
     "data": {
      "image/png": "[encoded data removed]",
      "text/plain": [
       "<Figure size 432x288 with 1 Axes>"
      ]
     },
     "metadata": {
      "needs_background": "light"
     },
     "output_type": "display_data"
    }
   ],
   "source": [
    "plt.scatter(x1[:,0],x1[:,1])\n",
    "plt.plot(x,y1)\n",
    "plt.grid()"
   ]
  },
  {
   "cell_type": "code",
   "execution_count": 4,
   "metadata": {},
   "outputs": [],
   "source": [
    "def bound(x1,x2):\n",
    "    y=np.zeros((x1.shape))\n",
    "    for i in range(y.shape[0]):\n",
    "        if (x2[i]<f(x1[i])):\n",
    "            y[i]=-1\n",
    "        else:\n",
    "            y[i]=1\n",
    "    return y"
   ]
  },
  {
   "cell_type": "code",
   "execution_count": 5,
   "metadata": {},
   "outputs": [
    {
     "name": "stdout",
     "output_type": "stream",
     "text": [
      "[-1.  1.  1.  1. -1. -1. -1. -1. -1.  1.  1. -1.  1. -1. -1.  1. -1. -1.\n",
      "  1.  1. -1. -1. -1. -1. -1. -1. -1. -1. -1.  1.]\n"
     ]
    }
   ],
   "source": [
    "y_lab=bound(x1[:,0],x1[:,1])\n",
    "print(y_lab)"
   ]
  },
  {
   "cell_type": "code",
   "execution_count": 6,
   "metadata": {},
   "outputs": [],
   "source": [
    "#Create the dataset\n",
    "def data(x):\n",
    "    l=np.ones(x.shape[0])\n",
    "    l=l.reshape(-1,1)\n",
    "    X=np.concatenate((l,x),axis=1)\n",
    "    return X"
   ]
  },
  {
   "cell_type": "code",
   "execution_count": 7,
   "metadata": {},
   "outputs": [
    {
     "name": "stdout",
     "output_type": "stream",
     "text": [
      "[[ 1.          1.46480422 -3.96609123]\n",
      " [ 1.         -0.53813833  3.37290337]\n",
      " [ 1.         -2.44935254 -3.3798374 ]\n",
      " [ 1.         -2.95260665  2.86497694]\n",
      " [ 1.          0.3545808  -3.15240875]\n",
      " [ 1.          2.9486396   3.39922573]\n",
      " [ 1.          2.06861705  2.16319923]\n",
      " [ 1.          4.1265145   3.44633066]\n",
      " [ 1.          0.74570831 -2.38075134]\n",
      " [ 1.         -2.34567311  1.68341686]\n",
      " [ 1.         -5.62291833  1.16999521]\n",
      " [ 1.          1.07616477 -1.17256735]\n",
      " [ 1.         -3.95509681 -4.83105219]\n",
      " [ 1.         -0.56319496 -5.94895492]\n",
      " [ 1.          2.5251253   2.28470597]\n",
      " [ 1.         -6.05013993  0.7312113 ]\n",
      " [ 1.         -0.50523965 -3.69136769]\n",
      " [ 1.          0.7645542  -1.13222664]\n",
      " [ 1.          0.87210418  7.57315718]\n",
      " [ 1.         -5.43345062  3.04265199]\n",
      " [ 1.          4.58529093 -2.86890079]\n",
      " [ 1.          2.27949258  2.76601062]\n",
      " [ 1.         -1.4467298  -3.02212832]\n",
      " [ 1.          3.39812486  0.191313  ]\n",
      " [ 1.         -0.20996714 -0.51463225]\n",
      " [ 1.         -2.70839783 -6.33996767]\n",
      " [ 1.          2.36512357  1.72877578]\n",
      " [ 1.          0.84182573  2.22741927]\n",
      " [ 1.          3.85678861 -4.14887108]\n",
      " [ 1.         -1.96109631 -2.47805151]]\n"
     ]
    }
   ],
   "source": [
    "Xt=data(x1)\n",
    "print(Xt)"
   ]
  },
  {
   "cell_type": "code",
   "execution_count": 8,
   "metadata": {},
   "outputs": [],
   "source": [
    "# Activation function\n",
    "def inp(X,w):\n",
    "    yhat=np.dot(X,w)\n",
    "    for i in range(yhat.shape[0]):\n",
    "        if yhat[i]>=0:\n",
    "            yhat[i]=1\n",
    "        else:\n",
    "            yhat[i]=-1\n",
    "    return yhat"
   ]
  },
  {
   "cell_type": "code",
   "execution_count": 9,
   "metadata": {},
   "outputs": [],
   "source": [
    "#Learning algorithm\n",
    "def learn(X,y,eta,num):\n",
    "    w=0.1*np.zeros((X.shape[1]))\n",
    "    y_hat=inp(X,w)\n",
    "    for j in range(num):\n",
    "        y_hat=inp(X,w)\n",
    "        for i in range(X.shape[0]):\n",
    "            w=w+eta*(y[i]-y_hat[i])*X[i]\n",
    "        #y_hat=inp(X,w)\n",
    "        error=np.sum(np.abs(y-y_hat))\n",
    "        print('learning epoch %f , error: %f' % (j,  error))\n",
    "    return (w)"
   ]
  },
  {
   "cell_type": "code",
   "execution_count": 10,
   "metadata": {},
   "outputs": [
    {
     "name": "stdout",
     "output_type": "stream",
     "text": [
      "learning epoch 0.000000 , error: 40.000000\n",
      "learning epoch 1.000000 , error: 8.000000\n",
      "learning epoch 2.000000 , error: 4.000000\n",
      "learning epoch 3.000000 , error: 0.000000\n",
      "learning epoch 4.000000 , error: 0.000000\n",
      "learning epoch 5.000000 , error: 0.000000\n",
      "learning epoch 6.000000 , error: 0.000000\n",
      "learning epoch 7.000000 , error: 0.000000\n",
      "learning epoch 8.000000 , error: 0.000000\n",
      "learning epoch 9.000000 , error: 0.000000\n",
      "learning epoch 10.000000 , error: 0.000000\n",
      "learning epoch 11.000000 , error: 0.000000\n",
      "learning epoch 12.000000 , error: 0.000000\n",
      "learning epoch 13.000000 , error: 0.000000\n",
      "learning epoch 14.000000 , error: 0.000000\n",
      "learning epoch 15.000000 , error: 0.000000\n",
      "learning epoch 16.000000 , error: 0.000000\n",
      "learning epoch 17.000000 , error: 0.000000\n",
      "learning epoch 18.000000 , error: 0.000000\n",
      "learning epoch 19.000000 , error: 0.000000\n"
     ]
    }
   ],
   "source": [
    "wei=learn(Xt,y_lab,0.1,20)"
   ]
  },
  {
   "cell_type": "markdown",
   "metadata": {},
   "source": [
    "## Now, using the iris dataset ##"
   ]
  },
  {
   "cell_type": "code",
   "execution_count": 11,
   "metadata": {},
   "outputs": [
    {
     "data": {
      "text/html": [
       "<div>\n",
       "<style scoped>\n",
       "    .dataframe tbody tr th:only-of-type {\n",
       "        vertical-align: middle;\n",
       "    }\n",
       "\n",
       "    .dataframe tbody tr th {\n",
       "        vertical-align: top;\n",
       "    }\n",
       "\n",
       "    .dataframe thead th {\n",
       "        text-align: right;\n",
       "    }\n",
       "</style>\n",
       "<table border=\"1\" class=\"dataframe\">\n",
       "  <thead>\n",
       "    <tr style=\"text-align: right;\">\n",
       "      <th></th>\n",
       "      <th>0</th>\n",
       "      <th>1</th>\n",
       "      <th>2</th>\n",
       "      <th>3</th>\n",
       "      <th>4</th>\n",
       "    </tr>\n",
       "  </thead>\n",
       "  <tbody>\n",
       "    <tr>\n",
       "      <td>0</td>\n",
       "      <td>5.1</td>\n",
       "      <td>3.5</td>\n",
       "      <td>1.4</td>\n",
       "      <td>0.2</td>\n",
       "      <td>Iris-setosa</td>\n",
       "    </tr>\n",
       "    <tr>\n",
       "      <td>1</td>\n",
       "      <td>4.9</td>\n",
       "      <td>3.0</td>\n",
       "      <td>1.4</td>\n",
       "      <td>0.2</td>\n",
       "      <td>Iris-setosa</td>\n",
       "    </tr>\n",
       "    <tr>\n",
       "      <td>2</td>\n",
       "      <td>4.7</td>\n",
       "      <td>3.2</td>\n",
       "      <td>1.3</td>\n",
       "      <td>0.2</td>\n",
       "      <td>Iris-setosa</td>\n",
       "    </tr>\n",
       "    <tr>\n",
       "      <td>3</td>\n",
       "      <td>4.6</td>\n",
       "      <td>3.1</td>\n",
       "      <td>1.5</td>\n",
       "      <td>0.2</td>\n",
       "      <td>Iris-setosa</td>\n",
       "    </tr>\n",
       "    <tr>\n",
       "      <td>4</td>\n",
       "      <td>5.0</td>\n",
       "      <td>3.6</td>\n",
       "      <td>1.4</td>\n",
       "      <td>0.2</td>\n",
       "      <td>Iris-setosa</td>\n",
       "    </tr>\n",
       "  </tbody>\n",
       "</table>\n",
       "</div>"
      ],
      "text/plain": [
       "     0    1    2    3            4\n",
       "0  5.1  3.5  1.4  0.2  Iris-setosa\n",
       "1  4.9  3.0  1.4  0.2  Iris-setosa\n",
       "2  4.7  3.2  1.3  0.2  Iris-setosa\n",
       "3  4.6  3.1  1.5  0.2  Iris-setosa\n",
       "4  5.0  3.6  1.4  0.2  Iris-setosa"
      ]
     },
     "execution_count": 11,
     "metadata": {},
     "output_type": "execute_result"
    }
   ],
   "source": [
    "datair=pd.read_csv('iris.data',header=None,encoding='utf-8')\n",
    "datair.head()"
   ]
  },
  {
   "cell_type": "code",
   "execution_count": 12,
   "metadata": {},
   "outputs": [
    {
     "data": {
      "image/png": "[encoded data removed]",
      "text/plain": [
       "<Figure size 1080x576 with 1 Axes>"
      ]
     },
     "metadata": {
      "needs_background": "light"
     },
     "output_type": "display_data"
    }
   ],
   "source": [
    "# select setosa and versicolor\n",
    "y = datair.iloc[0:100, 4].values\n",
    "y = np.where(y == 'Iris-setosa', -1, 1)\n",
    "\n",
    "X = datair.iloc[0:100, [0, 2]].values\n",
    "\n",
    "plt.figure(figsize=(15,8))\n",
    "plt.scatter(X[:50, 0], X[:50, 1],\n",
    "            color='red', marker='o', label='setosa')\n",
    "plt.scatter(X[50:100, 0], X[50:100, 1],\n",
    "            color='blue', marker='x', label='versicolor')\n",
    "\n",
    "plt.xlabel('sepal length [cm]')\n",
    "plt.ylabel('petal length [cm]')\n",
    "plt.legend(loc='upper left')\n",
    "plt.grid()\n",
    "plt.show()"
   ]
  },
  {
   "cell_type": "code",
   "execution_count": 13,
   "metadata": {},
   "outputs": [
    {
     "name": "stdout",
     "output_type": "stream",
     "text": [
      "learning epoch 0.000000 , error: 100.000000\n",
      "learning epoch 1.000000 , error: 100.000000\n",
      "learning epoch 2.000000 , error: 100.000000\n",
      "learning epoch 3.000000 , error: 100.000000\n",
      "learning epoch 4.000000 , error: 100.000000\n",
      "learning epoch 5.000000 , error: 94.000000\n",
      "learning epoch 6.000000 , error: 100.000000\n",
      "learning epoch 7.000000 , error: 0.000000\n",
      "learning epoch 8.000000 , error: 0.000000\n",
      "learning epoch 9.000000 , error: 0.000000\n",
      "learning epoch 10.000000 , error: 0.000000\n",
      "learning epoch 11.000000 , error: 0.000000\n",
      "learning epoch 12.000000 , error: 0.000000\n",
      "learning epoch 13.000000 , error: 0.000000\n",
      "learning epoch 14.000000 , error: 0.000000\n",
      "learning epoch 15.000000 , error: 0.000000\n",
      "learning epoch 16.000000 , error: 0.000000\n",
      "learning epoch 17.000000 , error: 0.000000\n",
      "learning epoch 18.000000 , error: 0.000000\n",
      "learning epoch 19.000000 , error: 0.000000\n"
     ]
    }
   ],
   "source": [
    "X2=data(X)\n",
    "wei=learn(X2,y,0.01,20)"
   ]
  },
  {
   "cell_type": "code",
   "execution_count": 14,
   "metadata": {},
   "outputs": [],
   "source": [
    "class Perceptron(object):\n",
    "    def __init__(self,epochn,eta):\n",
    "        self.epochn=epochn\n",
    "        self.eta=eta\n",
    "        \n",
    "    def learn(self,X,y):\n",
    "        self.w = np.zeros((X.shape[1]))\n",
    "        for j in range(self.epochn):\n",
    "            for i in range(X.shape[0]):\n",
    "                self.w=self.w+(self.eta)*(y[i]-self.act(X)[i])*X[i]\n",
    "            #y_hat=self.act(self.inp(X,w))    \n",
    "            error=np.sum(np.abs(y-self.act(X)))\n",
    "            #print('learning epoch %f, error: %f' % (j,error))\n",
    "        return (self.w)\n",
    "        \n",
    "    def inp(self,X):\n",
    "        vec=np.dot(X,self.w)\n",
    "        return vec\n",
    "    \n",
    "    def act(self,X):\n",
    "        return np.where(self.inp(X) >= 0.0, 1, -1)\n",
    "        "
   ]
  },
  {
   "cell_type": "code",
   "execution_count": 15,
   "metadata": {},
   "outputs": [],
   "source": [
    "def test(Xte,w):\n",
    "    yhat=np.dot(Xte,w)\n",
    "    for i in range(yhat.shape[0]):\n",
    "        if yhat[i]>=0:\n",
    "            yhat[i]=1\n",
    "        else:\n",
    "            yhat[i]=-1\n",
    "    return yhat"
   ]
  },
  {
   "cell_type": "code",
   "execution_count": 16,
   "metadata": {},
   "outputs": [
    {
     "data": {
      "text/plain": [
       "<matplotlib.collections.PathCollection at 0x2202d43ec88>"
      ]
     },
     "execution_count": 16,
     "metadata": {},
     "output_type": "execute_result"
    },
    {
     "data": {
      "image/png": "[encoded data removed]",
      "text/plain": [
       "<Figure size 432x288 with 1 Axes>"
      ]
     },
     "metadata": {
      "needs_background": "light"
     },
     "output_type": "display_data"
    }
   ],
   "source": [
    "df = pd.read_csv(\"dataset.csv\")\n",
    "obs = 1000\n",
    "plt.figure(0)\n",
    "plt.scatter(df.values[:,1], df.values[:,2], c = df['3'], alpha=0.8)"
   ]
  },
  {
   "cell_type": "code",
   "execution_count": 17,
   "metadata": {},
   "outputs": [],
   "source": [
    "df=df.values"
   ]
  },
  {
   "cell_type": "code",
   "execution_count": 18,
   "metadata": {},
   "outputs": [
    {
     "data": {
      "text/plain": [
       "array([[ 1.        , -0.38336209, -0.48799241,  0.        ],\n",
       "       [ 1.        , -2.36033487, -2.44005346,  0.        ],\n",
       "       [ 1.        , -0.35844329,  0.14198118,  0.        ],\n",
       "       ...,\n",
       "       [ 1.        ,  1.55024755,  4.89820576,  1.        ],\n",
       "       [ 1.        ,  0.05916472,  4.65455151,  1.        ],\n",
       "       [ 1.        ,  0.83748877,  5.21159935,  1.        ]])"
      ]
     },
     "execution_count": 18,
     "metadata": {},
     "output_type": "execute_result"
    }
   ],
   "source": [
    "df"
   ]
  },
  {
   "cell_type": "code",
   "execution_count": 19,
   "metadata": {},
   "outputs": [],
   "source": [
    "from sklearn.model_selection import train_test_split"
   ]
  },
  {
   "cell_type": "code",
   "execution_count": 20,
   "metadata": {},
   "outputs": [],
   "source": [
    "X=df[:,1:3]\n",
    "y=df[:,3]"
   ]
  },
  {
   "cell_type": "code",
   "execution_count": 21,
   "metadata": {},
   "outputs": [],
   "source": [
    "#Add the bias term to the X's\n",
    "X=data(X)"
   ]
  },
  {
   "cell_type": "code",
   "execution_count": 22,
   "metadata": {},
   "outputs": [],
   "source": [
    "X_train,X_test,y_train,y_test=train_test_split(X,y,test_size=0.3)"
   ]
  },
  {
   "cell_type": "code",
   "execution_count": 23,
   "metadata": {},
   "outputs": [
    {
     "ename": "NameError",
     "evalue": "name 'weightsp' is not defined",
     "output_type": "error",
     "traceback": [
      "\u001b[1;31m---------------------------------------------------------------------------\u001b[0m",
      "\u001b[1;31mNameError\u001b[0m                                 Traceback (most recent call last)",
      "\u001b[1;32m<ipython-input-23-87033c66a71b>\u001b[0m in \u001b[0;36m<module>\u001b[1;34m\u001b[0m\n\u001b[1;32m----> 1\u001b[1;33m \u001b[0my_hat\u001b[0m\u001b[1;33m=\u001b[0m\u001b[0mtest\u001b[0m\u001b[1;33m(\u001b[0m\u001b[0mX_test\u001b[0m\u001b[1;33m,\u001b[0m\u001b[0mweightsp\u001b[0m\u001b[1;33m)\u001b[0m\u001b[1;33m\u001b[0m\u001b[1;33m\u001b[0m\u001b[0m\n\u001b[0m",
      "\u001b[1;31mNameError\u001b[0m: name 'weightsp' is not defined"
     ]
    }
   ],
   "source": [
    "y_hat=test(X_test,weightsp)"
   ]
  },
  {
   "cell_type": "code",
   "execution_count": null,
   "metadata": {},
   "outputs": [],
   "source": [
    "from sklearn.metrics import accuracy_score"
   ]
  },
  {
   "cell_type": "code",
   "execution_count": null,
   "metadata": {},
   "outputs": [],
   "source": [
    "print(accuracy_score(y_hat,y_test))"
   ]
  },
  {
   "cell_type": "code",
   "execution_count": null,
   "metadata": {},
   "outputs": [],
   "source": [
    "from sklearn.linear_model import Perceptron\n",
    "clf = Perceptron( eta0=0.1, shuffle=False, fit_intercept=False)\n",
    "clf.fit(X_train, y_train)"
   ]
  },
  {
   "cell_type": "code",
   "execution_count": null,
   "metadata": {},
   "outputs": [],
   "source": [
    "y_predict = clf.predict(X_test)\n",
    "\n",
    "print(clf.coef_[0])"
   ]
  },
  {
   "cell_type": "code",
   "execution_count": null,
   "metadata": {},
   "outputs": [],
   "source": [
    "weightsp"
   ]
  },
  {
   "cell_type": "markdown",
   "metadata": {},
   "source": [
    "The results obtained by using a unit step function when we are updating the weights could affect the result between our perceptron and the sklearn perceptron. Now, we are going to introduce a linear activation function and the gradient descent method. The idea of introducing the gradient descent is to minimize a cost function such as \n",
    "\n",
    "$J(w)=\\frac{1}{2} \\sum (y^{(i)}-\\hat{y}^{(i)})^{2}$"
   ]
  },
  {
   "cell_type": "code",
   "execution_count": null,
   "metadata": {},
   "outputs": [],
   "source": []
  },
  {
   "cell_type": "code",
   "execution_count": null,
   "metadata": {},
   "outputs": [],
   "source": [
    "class PerceptronGD(object):\n",
    "    def __init__(self,epoch,eta):\n",
    "        self.epoch=epoch\n",
    "        self.eta=eta\n",
    "        \n",
    "    def learn(self,X,y):\n",
    "        self.w = np.zeros((X.shape[1]))\n",
    "        for i in range(self.epoch):\n",
    "            out=self.act(X)\n",
    "            errors=(y-out)\n",
    "            grad=X.T.dot(errors)\n",
    "            self.w=self.w+self.eta*grad\n",
    "        return (self.w)\n",
    "        \n",
    "    def inp(self,X):\n",
    "        vec=np.dot(X,self.w)\n",
    "        return vec\n",
    "    \n",
    "    def act(self,X):\n",
    "        return np.where(self.inp(X) >= 0.0, 1, -1)"
   ]
  },
  {
   "cell_type": "code",
   "execution_count": null,
   "metadata": {},
   "outputs": [],
   "source": [
    "wt = PerceptronGD(epoch=160, eta=0.001).learn(X_train, y_train)"
   ]
  },
  {
   "cell_type": "code",
   "execution_count": null,
   "metadata": {},
   "outputs": [],
   "source": [
    "wt"
   ]
  },
  {
   "cell_type": "code",
   "execution_count": null,
   "metadata": {},
   "outputs": [],
   "source": []
  }
 ],
 "metadata": {
  "kernelspec": {
   "display_name": "Python 3",
   "language": "python",
   "name": "python3"
  },
  "language_info": {
   "codemirror_mode": {
    "name": "ipython",
    "version": 3
   },
   "file_extension": ".py",
   "mimetype": "text/x-python",
   "name": "python",
   "nbconvert_exporter": "python",
   "pygments_lexer": "ipython3",
   "version": "3.7.4"
  }
 },
 "nbformat": 4,
 "nbformat_minor": 2
}
